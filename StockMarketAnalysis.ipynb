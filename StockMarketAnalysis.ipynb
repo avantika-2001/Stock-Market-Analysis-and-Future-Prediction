{
  "cells": [
    {
      "cell_type": "markdown",
      "metadata": {
        "id": "view-in-github",
        "colab_type": "text"
      },
      "source": [
        "<a href=\"https://colab.research.google.com/github/avantika-2001/Stock-Market-Analysis-and-Future-Prediction/blob/main/StockMarketAnalysis.ipynb\" target=\"_parent\"><img src=\"https://colab.research.google.com/assets/colab-badge.svg\" alt=\"Open In Colab\"/></a>"
      ]
    },
    {
      "cell_type": "code",
      "execution_count": null,
      "metadata": {
        "id": "jHTCBvaVEkUC"
      },
      "outputs": [],
      "source": [
        "!pip install yfinance"
      ]
    },
    {
      "cell_type": "code",
      "execution_count": null,
      "metadata": {
        "id": "CBv1cx6nFNTF"
      },
      "outputs": [],
      "source": [
        "pip show yfinance"
      ]
    },
    {
      "cell_type": "code",
      "execution_count": null,
      "metadata": {
        "id": "QUnjFGOrFSqg"
      },
      "outputs": [],
      "source": [
        "#Importing required libraries\n",
        "import yfinance as yf\n",
        "import numpy as np\n",
        "import matplotlib.pyplot as plt\n",
        "import seaborn as sns\n",
        "from pandas_datareader import data as web"
      ]
    },
    {
      "cell_type": "code",
      "execution_count": null,
      "metadata": {
        "id": "PMu3Jwl_F662"
      },
      "outputs": [],
      "source": [
        "df_Apple = yf.download([\"AAPL\"],start='2018-01-01',end='2023-01-01')\n",
        "df_Apple.head(10)"
      ]
    },
    {
      "cell_type": "code",
      "execution_count": null,
      "metadata": {
        "id": "g6bvIw7qKSx7"
      },
      "outputs": [],
      "source": [
        "df_Apple.describe()"
      ]
    },
    {
      "cell_type": "code",
      "execution_count": null,
      "metadata": {
        "id": "LXqhrGBnKixV"
      },
      "outputs": [],
      "source": [
        "df_Apple['Adj Close'].plot(legend=True,figsize=(10,4))"
      ]
    },
    {
      "cell_type": "code",
      "execution_count": null,
      "metadata": {
        "id": "qx34rhQJKsOU"
      },
      "outputs": [],
      "source": [
        "df_Apple['Volume'].plot(legend=True,figsize=(10,4))"
      ]
    },
    {
      "cell_type": "code",
      "execution_count": null,
      "metadata": {
        "id": "WcNuWCb-Kw5R"
      },
      "outputs": [],
      "source": [
        "ma_day = [50,100,200]\n",
        "\n",
        "for ma in ma_day:\n",
        "    column_name = \"MA for %s days\" %(str(ma))\n",
        "    df_Apple[column_name]= df_Apple['Adj Close'].rolling(window=ma).mean()"
      ]
    },
    {
      "cell_type": "code",
      "execution_count": null,
      "metadata": {
        "id": "1gj_SC6EMQ7x"
      },
      "outputs": [],
      "source": [
        "df_Apple[['Adj Close','MA for 50 days','MA for 100 days','MA for 200 days']].plot(figsize=(10,4))"
      ]
    },
    {
      "cell_type": "code",
      "execution_count": null,
      "metadata": {
        "id": "sEBNlUe_MV0Q"
      },
      "outputs": [],
      "source": [
        "# Daily return percentage\n",
        "df_Apple['Daily Return'] = df_Apple['Adj Close'].pct_change()\n",
        "df_Apple['Daily Return'].plot(figsize=(12,4),legend=True,linestyle='--',marker='o')"
      ]
    },
    {
      "cell_type": "code",
      "execution_count": null,
      "metadata": {
        "id": "JA9quWWmMiOf"
      },
      "outputs": [],
      "source": [
        "df_Apple['Daily Return'].hist()"
      ]
    },
    {
      "cell_type": "code",
      "execution_count": null,
      "metadata": {
        "id": "vSIWuip7M2Sy"
      },
      "outputs": [],
      "source": [
        "closing_df = yf.download(['AAPL','GOOG','MSFT','AMZN'],\n",
        "start='2018-01-01',\n",
        "end='2023-01-01')['Adj Close']"
      ]
    },
    {
      "cell_type": "code",
      "execution_count": null,
      "metadata": {
        "id": "mXJrvZ-vNwjJ"
      },
      "outputs": [],
      "source": [
        "closing_df.head()"
      ]
    },
    {
      "cell_type": "code",
      "execution_count": null,
      "metadata": {
        "id": "jH1oyeIrNzqA"
      },
      "outputs": [],
      "source": [
        "# Daily return analysis\n",
        "tech_rets = closing_df.pct_change()"
      ]
    },
    {
      "cell_type": "code",
      "execution_count": null,
      "metadata": {
        "id": "dLTPY6sgOUIk"
      },
      "outputs": [],
      "source": [
        "#Correlation btw different stocks\n",
        "correlation=tech_rets.corr()\n",
        "correlation.style.background_gradient(cmap = 'hot')  "
      ]
    },
    {
      "cell_type": "markdown",
      "source": [
        "**RISK** **ANALYSIS**"
      ],
      "metadata": {
        "id": "D93Ugrdq-ezv"
      }
    },
    {
      "cell_type": "code",
      "execution_count": null,
      "metadata": {
        "id": "zXIg4u4yQefG"
      },
      "outputs": [],
      "source": [
        "rets = tech_rets.dropna()\n",
        "days = 365\n",
        "dt = 1/days\n",
        "mu = rets.mean()['GOOG']\n",
        "sigma = rets.std()['GOOG']"
      ]
    },
    {
      "cell_type": "code",
      "execution_count": null,
      "metadata": {
        "id": "ZPRnm4hPQt6V"
      },
      "outputs": [],
      "source": [
        "def stock_monte_carlo(start_price,days,mu,sigma):    \n",
        "    price = np.zeros(days)\n",
        "    price[0] = start_price\n",
        "    # Shock and Drift\n",
        "    shock = np.zeros(days)\n",
        "    drift = np.zeros(days)\n",
        "    for x in range(1,days):\n",
        "        shock[x] = np.random.normal(loc=mu * dt, scale=sigma * np.sqrt(dt))\n",
        "        drift[x] = mu * dt\n",
        "        price[x] = price[x-1] + (price[x-1] * (drift[x] + shock[x]))        \n",
        "    return price"
      ]
    },
    {
      "cell_type": "code",
      "execution_count": null,
      "metadata": {
        "id": "RnqECa6hQ0k0"
      },
      "outputs": [],
      "source": [
        "# Get start price from GOOG.head()\n",
        "start_price = 540.00\n",
        "\n",
        "for run in range(100):\n",
        "    plt.plot(stock_monte_carlo(start_price,days,mu,sigma))\n",
        "plt.xlabel(\"Days\")\n",
        "plt.ylabel(\"Price\")  \n",
        "plt.title('Monte Carlo Analysis for Google')"
      ]
    },
    {
      "cell_type": "code",
      "execution_count": null,
      "metadata": {
        "id": "WvfxFYbZSzcV"
      },
      "outputs": [],
      "source": [
        "runs = 10000\n",
        "# Create an empty matrix to hold the end price data\n",
        "simulations = np.zeros(runs)\n",
        "for run in range(runs):    \n",
        "        simulations[run] = stock_monte_carlo(start_price,days,mu,sigma)[days-1];"
      ]
    },
    {
      "cell_type": "code",
      "execution_count": null,
      "metadata": {
        "id": "VQFtRm4TTDdS",
        "collapsed": true
      },
      "outputs": [],
      "source": [
        "q = np.percentile(simulations, 1)\n",
        "plt.hist(simulations,bins=200)\n",
        "\n",
        "plt.figtext(0.6, 0.8, s=\"Start price: $%.2f\" %start_price)\n",
        "# Mean ending price\n",
        "plt.figtext(0.6, 0.7, \"Mean final price: $%.2f\" % simulations.mean())\n",
        "\n",
        "# Variance of the price (within 99% confidence interval)\n",
        "plt.figtext(0.6, 0.6, \"VaR(0.99): $%.2f\" % (start_price - q))\n",
        "\n",
        "# Display 1% quantile\n",
        "plt.figtext(0.15, 0.6, \"q(0.99): $%.2f\" % q)\n",
        "\n",
        "# Plot a line at the 1% quantile result\n",
        "plt.axvline(x=q, linewidth=4, color='r')\n",
        "plt.title(u\"Final price distribution for Google Stock after %s days\" % days, weight='bold');"
      ]
    }
  ],
  "metadata": {
    "colab": {
      "provenance": [],
      "authorship_tag": "ABX9TyNtRx/s83ErtvyvJC32KqEA",
      "include_colab_link": true
    },
    "kernelspec": {
      "display_name": "Python 3",
      "name": "python3"
    },
    "language_info": {
      "name": "python"
    }
  },
  "nbformat": 4,
  "nbformat_minor": 0
}